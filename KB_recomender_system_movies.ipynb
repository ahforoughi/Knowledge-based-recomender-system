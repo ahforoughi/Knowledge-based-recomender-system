{
 "cells": [
  {
   "cell_type": "markdown",
   "metadata": {
    "id": "nFIU8gFkxh1x"
   },
   "source": [
    "# Knowledge-based recommender system on IMDB \n",
    "IMDb is the most popular movie website and it combines movie plot description, Metastore ratings, critic and user ratings and reviews, release dates, and many more aspects.\n",
    "\n",
    "This website is the best resource for movies information, beacause it has save nearly every movie records (the oldest is from 1874 - \"Passage de Venus\") and publish it publicly so every body can access and use them for research \n",
    "\n",
    "This dataset that i used includes 85855 movies with features such as title, year, average votes, number of votes, budget and country.\n",
    "\n",
    "The ratings dataset includes 85,855 rating details from demographic perspective.\n",
    "\n",
    "We just used first 1000 rows for simplicity, and during preperation we drop some unuseful coloumns and keep some useful features that we can search on them. \n",
    "\n",
    "First we import some library  "
   ]
  },
  {
   "cell_type": "code",
   "execution_count": null,
   "metadata": {
    "id": "cUF7O5sZ8m8h"
   },
   "outputs": [],
   "source": [
    "import numpy as np\n",
    "import pandas as pd\n",
    "import matplotlib.pyplot as plt\n",
    "import tests as t\n",
    "from ast import literal_eval"
   ]
  },
  {
   "cell_type": "markdown",
   "metadata": {
    "id": "tE4amwapAQni"
   },
   "source": [
    "Here is reading from full data set. I Upload it in a directory in Google Drive. But here is the link to full dataset from my drive: \n",
    "https://drive.google.com/file/d/1cBO_DvO4Peg14BZtqTCpMd9IaMkRLkD_/view?usp=sharing"
   ]
  },
  {
   "cell_type": "code",
   "execution_count": null,
   "metadata": {
    "colab": {
     "base_uri": "https://localhost:8080/",
     "height": 734
    },
    "id": "dH2xBAl7BX2B",
    "outputId": "8815ff9f-8c71-4571-8846-004116433b8b"
   },
   "outputs": [
    {
     "name": "stdout",
     "output_type": "stream",
     "text": [
      "Archive:  /content/drive/MyDrive/Colab Notebooks/IMDb movies.csv.zip\n",
      "replace IMDb movies.csv? [y]es, [n]o, [A]ll, [N]one, [r]ename: no\n"
     ]
    },
    {
     "name": "stderr",
     "output_type": "stream",
     "text": [
      "/usr/local/lib/python3.7/dist-packages/IPython/core/interactiveshell.py:2718: DtypeWarning: Columns (3) have mixed types.Specify dtype option on import or set low_memory=False.\n",
      "  interactivity=interactivity, compiler=compiler, result=result)\n"
     ]
    },
    {
     "data": {
      "text/html": [
       "<div>\n",
       "<style scoped>\n",
       "    .dataframe tbody tr th:only-of-type {\n",
       "        vertical-align: middle;\n",
       "    }\n",
       "\n",
       "    .dataframe tbody tr th {\n",
       "        vertical-align: top;\n",
       "    }\n",
       "\n",
       "    .dataframe thead th {\n",
       "        text-align: right;\n",
       "    }\n",
       "</style>\n",
       "<table border=\"1\" class=\"dataframe\">\n",
       "  <thead>\n",
       "    <tr style=\"text-align: right;\">\n",
       "      <th></th>\n",
       "      <th>imdb_title_id</th>\n",
       "      <th>title</th>\n",
       "      <th>original_title</th>\n",
       "      <th>year</th>\n",
       "      <th>date_published</th>\n",
       "      <th>genre</th>\n",
       "      <th>duration</th>\n",
       "      <th>country</th>\n",
       "      <th>language</th>\n",
       "      <th>director</th>\n",
       "      <th>writer</th>\n",
       "      <th>production_company</th>\n",
       "      <th>actors</th>\n",
       "      <th>description</th>\n",
       "      <th>avg_vote</th>\n",
       "      <th>votes</th>\n",
       "      <th>budget</th>\n",
       "      <th>usa_gross_income</th>\n",
       "      <th>worlwide_gross_income</th>\n",
       "      <th>metascore</th>\n",
       "      <th>reviews_from_users</th>\n",
       "      <th>reviews_from_critics</th>\n",
       "    </tr>\n",
       "  </thead>\n",
       "  <tbody>\n",
       "    <tr>\n",
       "      <th>0</th>\n",
       "      <td>tt0000009</td>\n",
       "      <td>Miss Jerry</td>\n",
       "      <td>Miss Jerry</td>\n",
       "      <td>1894</td>\n",
       "      <td>1894-10-09</td>\n",
       "      <td>Romance</td>\n",
       "      <td>45</td>\n",
       "      <td>USA</td>\n",
       "      <td>None</td>\n",
       "      <td>Alexander Black</td>\n",
       "      <td>Alexander Black</td>\n",
       "      <td>Alexander Black Photoplays</td>\n",
       "      <td>Blanche Bayliss, William Courtenay, Chauncey D...</td>\n",
       "      <td>The adventures of a female reporter in the 1890s.</td>\n",
       "      <td>5.9</td>\n",
       "      <td>154</td>\n",
       "      <td>NaN</td>\n",
       "      <td>NaN</td>\n",
       "      <td>NaN</td>\n",
       "      <td>NaN</td>\n",
       "      <td>1.0</td>\n",
       "      <td>2.0</td>\n",
       "    </tr>\n",
       "    <tr>\n",
       "      <th>1</th>\n",
       "      <td>tt0000574</td>\n",
       "      <td>The Story of the Kelly Gang</td>\n",
       "      <td>The Story of the Kelly Gang</td>\n",
       "      <td>1906</td>\n",
       "      <td>1906-12-26</td>\n",
       "      <td>Biography, Crime, Drama</td>\n",
       "      <td>70</td>\n",
       "      <td>Australia</td>\n",
       "      <td>None</td>\n",
       "      <td>Charles Tait</td>\n",
       "      <td>Charles Tait</td>\n",
       "      <td>J. and N. Tait</td>\n",
       "      <td>Elizabeth Tait, John Tait, Norman Campbell, Be...</td>\n",
       "      <td>True story of notorious Australian outlaw Ned ...</td>\n",
       "      <td>6.1</td>\n",
       "      <td>589</td>\n",
       "      <td>$ 2250</td>\n",
       "      <td>NaN</td>\n",
       "      <td>NaN</td>\n",
       "      <td>NaN</td>\n",
       "      <td>7.0</td>\n",
       "      <td>7.0</td>\n",
       "    </tr>\n",
       "    <tr>\n",
       "      <th>2</th>\n",
       "      <td>tt0001892</td>\n",
       "      <td>Den sorte drøm</td>\n",
       "      <td>Den sorte drøm</td>\n",
       "      <td>1911</td>\n",
       "      <td>1911-08-19</td>\n",
       "      <td>Drama</td>\n",
       "      <td>53</td>\n",
       "      <td>Germany, Denmark</td>\n",
       "      <td>NaN</td>\n",
       "      <td>Urban Gad</td>\n",
       "      <td>Urban Gad, Gebhard Schätzler-Perasini</td>\n",
       "      <td>Fotorama</td>\n",
       "      <td>Asta Nielsen, Valdemar Psilander, Gunnar Helse...</td>\n",
       "      <td>Two men of high rank are both wooing the beaut...</td>\n",
       "      <td>5.8</td>\n",
       "      <td>188</td>\n",
       "      <td>NaN</td>\n",
       "      <td>NaN</td>\n",
       "      <td>NaN</td>\n",
       "      <td>NaN</td>\n",
       "      <td>5.0</td>\n",
       "      <td>2.0</td>\n",
       "    </tr>\n",
       "    <tr>\n",
       "      <th>3</th>\n",
       "      <td>tt0002101</td>\n",
       "      <td>Cleopatra</td>\n",
       "      <td>Cleopatra</td>\n",
       "      <td>1912</td>\n",
       "      <td>1912-11-13</td>\n",
       "      <td>Drama, History</td>\n",
       "      <td>100</td>\n",
       "      <td>USA</td>\n",
       "      <td>English</td>\n",
       "      <td>Charles L. Gaskill</td>\n",
       "      <td>Victorien Sardou</td>\n",
       "      <td>Helen Gardner Picture Players</td>\n",
       "      <td>Helen Gardner, Pearl Sindelar, Miss Fielding, ...</td>\n",
       "      <td>The fabled queen of Egypt's affair with Roman ...</td>\n",
       "      <td>5.2</td>\n",
       "      <td>446</td>\n",
       "      <td>$ 45000</td>\n",
       "      <td>NaN</td>\n",
       "      <td>NaN</td>\n",
       "      <td>NaN</td>\n",
       "      <td>25.0</td>\n",
       "      <td>3.0</td>\n",
       "    </tr>\n",
       "    <tr>\n",
       "      <th>4</th>\n",
       "      <td>tt0002130</td>\n",
       "      <td>L'Inferno</td>\n",
       "      <td>L'Inferno</td>\n",
       "      <td>1911</td>\n",
       "      <td>1911-03-06</td>\n",
       "      <td>Adventure, Drama, Fantasy</td>\n",
       "      <td>68</td>\n",
       "      <td>Italy</td>\n",
       "      <td>Italian</td>\n",
       "      <td>Francesco Bertolini, Adolfo Padovan</td>\n",
       "      <td>Dante Alighieri</td>\n",
       "      <td>Milano Film</td>\n",
       "      <td>Salvatore Papa, Arturo Pirovano, Giuseppe de L...</td>\n",
       "      <td>Loosely adapted from Dante's Divine Comedy and...</td>\n",
       "      <td>7.0</td>\n",
       "      <td>2237</td>\n",
       "      <td>NaN</td>\n",
       "      <td>NaN</td>\n",
       "      <td>NaN</td>\n",
       "      <td>NaN</td>\n",
       "      <td>31.0</td>\n",
       "      <td>14.0</td>\n",
       "    </tr>\n",
       "  </tbody>\n",
       "</table>\n",
       "</div>"
      ],
      "text/plain": [
       "  imdb_title_id  ... reviews_from_critics\n",
       "0     tt0000009  ...                  2.0\n",
       "1     tt0000574  ...                  7.0\n",
       "2     tt0001892  ...                  2.0\n",
       "3     tt0002101  ...                  3.0\n",
       "4     tt0002130  ...                 14.0\n",
       "\n",
       "[5 rows x 22 columns]"
      ]
     },
     "execution_count": 8,
     "metadata": {
      "tags": []
     },
     "output_type": "execute_result"
    }
   ],
   "source": [
    "data_path = \"/content/IMDb movies.csv\"\n",
    "! unzip \"/content/drive/MyDrive/Colab Notebooks/IMDb movies.csv.zip\"\n",
    "data = pd.read_csv(data_path)\n",
    "data.head()"
   ]
  },
  {
   "cell_type": "markdown",
   "metadata": {
    "id": "jm9duQtwAo2-"
   },
   "source": [
    "We shrink our dataset to first 1000 rows and drop some unuseful columns and keep some that we can search on them.    "
   ]
  },
  {
   "cell_type": "code",
   "execution_count": null,
   "metadata": {
    "colab": {
     "base_uri": "https://localhost:8080/"
    },
    "id": "VQ23C3FgapmO",
    "outputId": "0913a1c6-074e-4345-e462-75ff9b6fd836"
   },
   "outputs": [
    {
     "name": "stdout",
     "output_type": "stream",
     "text": [
      "data shape before shrink (85855, 22)\n",
      "data shape after shrink (1000, 7)\n"
     ]
    }
   ],
   "source": [
    "print(\"data shape before shrink\", data.shape)\n",
    "data = data.iloc[:1000, : ]\n",
    "data = data[['title', 'year', 'genre', 'duration', 'country', 'avg_vote', 'votes']]\n",
    "print(\"data shape after shrink\", data.shape)"
   ]
  },
  {
   "cell_type": "markdown",
   "metadata": {
    "id": "DTeQgkEy7z3C"
   },
   "source": [
    "Here is the head of the dataset after filtering. The next step is to be sure about data types and data cleaning. For example the year column must be integers and with out any NAN values.  "
   ]
  },
  {
   "cell_type": "code",
   "execution_count": null,
   "metadata": {
    "colab": {
     "base_uri": "https://localhost:8080/",
     "height": 204
    },
    "id": "unwdoz9XatOL",
    "outputId": "272d57df-df87-433c-ef2b-4c463a5dacb5"
   },
   "outputs": [
    {
     "data": {
      "text/html": [
       "<div>\n",
       "<style scoped>\n",
       "    .dataframe tbody tr th:only-of-type {\n",
       "        vertical-align: middle;\n",
       "    }\n",
       "\n",
       "    .dataframe tbody tr th {\n",
       "        vertical-align: top;\n",
       "    }\n",
       "\n",
       "    .dataframe thead th {\n",
       "        text-align: right;\n",
       "    }\n",
       "</style>\n",
       "<table border=\"1\" class=\"dataframe\">\n",
       "  <thead>\n",
       "    <tr style=\"text-align: right;\">\n",
       "      <th></th>\n",
       "      <th>title</th>\n",
       "      <th>year</th>\n",
       "      <th>genre</th>\n",
       "      <th>duration</th>\n",
       "      <th>country</th>\n",
       "      <th>avg_vote</th>\n",
       "      <th>votes</th>\n",
       "    </tr>\n",
       "  </thead>\n",
       "  <tbody>\n",
       "    <tr>\n",
       "      <th>0</th>\n",
       "      <td>Miss Jerry</td>\n",
       "      <td>1894</td>\n",
       "      <td>Romance</td>\n",
       "      <td>45</td>\n",
       "      <td>USA</td>\n",
       "      <td>5.9</td>\n",
       "      <td>154</td>\n",
       "    </tr>\n",
       "    <tr>\n",
       "      <th>1</th>\n",
       "      <td>The Story of the Kelly Gang</td>\n",
       "      <td>1906</td>\n",
       "      <td>Biography, Crime, Drama</td>\n",
       "      <td>70</td>\n",
       "      <td>Australia</td>\n",
       "      <td>6.1</td>\n",
       "      <td>589</td>\n",
       "    </tr>\n",
       "    <tr>\n",
       "      <th>2</th>\n",
       "      <td>Den sorte drøm</td>\n",
       "      <td>1911</td>\n",
       "      <td>Drama</td>\n",
       "      <td>53</td>\n",
       "      <td>Germany, Denmark</td>\n",
       "      <td>5.8</td>\n",
       "      <td>188</td>\n",
       "    </tr>\n",
       "    <tr>\n",
       "      <th>3</th>\n",
       "      <td>Cleopatra</td>\n",
       "      <td>1912</td>\n",
       "      <td>Drama, History</td>\n",
       "      <td>100</td>\n",
       "      <td>USA</td>\n",
       "      <td>5.2</td>\n",
       "      <td>446</td>\n",
       "    </tr>\n",
       "    <tr>\n",
       "      <th>4</th>\n",
       "      <td>L'Inferno</td>\n",
       "      <td>1911</td>\n",
       "      <td>Adventure, Drama, Fantasy</td>\n",
       "      <td>68</td>\n",
       "      <td>Italy</td>\n",
       "      <td>7.0</td>\n",
       "      <td>2237</td>\n",
       "    </tr>\n",
       "  </tbody>\n",
       "</table>\n",
       "</div>"
      ],
      "text/plain": [
       "                         title  year  ... avg_vote  votes\n",
       "0                   Miss Jerry  1894  ...      5.9    154\n",
       "1  The Story of the Kelly Gang  1906  ...      6.1    589\n",
       "2               Den sorte drøm  1911  ...      5.8    188\n",
       "3                    Cleopatra  1912  ...      5.2    446\n",
       "4                    L'Inferno  1911  ...      7.0   2237\n",
       "\n",
       "[5 rows x 7 columns]"
      ]
     },
     "execution_count": 10,
     "metadata": {
      "tags": []
     },
     "output_type": "execute_result"
    }
   ],
   "source": [
    "data.dtypes\n",
    "data.head()"
   ]
  },
  {
   "cell_type": "markdown",
   "metadata": {
    "id": "HK74wR-qC7uR"
   },
   "source": [
    "We invert all data in year column to integer data type so we can use arithmatic function for these data.  "
   ]
  },
  {
   "cell_type": "code",
   "execution_count": null,
   "metadata": {
    "colab": {
     "base_uri": "https://localhost:8080/"
    },
    "id": "XjapGu_uc-o8",
    "outputId": "c96be5ca-3d19-422e-8bca-0231baa405d5"
   },
   "outputs": [
    {
     "data": {
      "text/plain": [
       "title        object\n",
       "year          int64\n",
       "genre        object\n",
       "duration      int64\n",
       "country      object\n",
       "avg_vote    float64\n",
       "votes         int64\n",
       "dtype: object"
      ]
     },
     "execution_count": 11,
     "metadata": {
      "tags": []
     },
     "output_type": "execute_result"
    }
   ],
   "source": [
    "def convert_int(x):\n",
    "    try:\n",
    "        return int(x)\n",
    "    except: \n",
    "        return 0\n",
    "data['year'] = data['year'].apply(convert_int)\n",
    "data.dtypes"
   ]
  },
  {
   "cell_type": "markdown",
   "metadata": {
    "id": "FJfwQR4iIKrl"
   },
   "source": [
    "We don't want NaN values for non of the columns so we have to fill them with some data. I decided to fill them with null string value. "
   ]
  },
  {
   "cell_type": "code",
   "execution_count": null,
   "metadata": {
    "id": "swE9wy5Rdlpc"
   },
   "outputs": [],
   "source": [
    "#Convert all NaN into stringified empty lists\n",
    "data['genre'] = data['genre'].fillna('')"
   ]
  },
  {
   "cell_type": "markdown",
   "metadata": {
    "id": "PfJhuCMBJkr4"
   },
   "source": [
    "As we can see the genres feature is in the format which is like a object.\n",
    "\n",
    "Then we need to​​ explode​​ the column `genre`. You can say if any movie has more than one genre,​​ multiple movies copies will be created in which every movie will have one of the genres. Such as, if a movie named as \"The Story of the Kelly Gang\" which have multiple genre as: Biography, Crime and Drama. It will be explode into three rows.\n",
    "\n",
    "To do this we split them by comma at first then we explode a row to number of genres that row has.    "
   ]
  },
  {
   "cell_type": "code",
   "execution_count": null,
   "metadata": {
    "id": "yc41JaolhnCl"
   },
   "outputs": [],
   "source": [
    "data['genre'] = data['genre'].str.split(',')\n",
    "data = data.explode('genre')"
   ]
  },
  {
   "cell_type": "markdown",
   "metadata": {
    "id": "_ThvNPfUSt_g"
   },
   "source": [
    "Here we check that any of columns don't have any NAN value. "
   ]
  },
  {
   "cell_type": "code",
   "execution_count": null,
   "metadata": {
    "colab": {
     "base_uri": "https://localhost:8080/"
    },
    "id": "D5rtuHw9iaVV",
    "outputId": "12ea25e4-cecf-4315-dc13-285553e89bfd"
   },
   "outputs": [
    {
     "name": "stdout",
     "output_type": "stream",
     "text": [
      "null values for title = 0\n",
      "null values for year = 0\n",
      "null values for genre = 0\n",
      "null values for duration = 0\n",
      "null values for country = 0\n",
      "null values for avg_vote = 0\n",
      "null values for votes = 0\n"
     ]
    }
   ],
   "source": [
    "# check null values for each column\n",
    "columns = list(data.columns)\n",
    "for i in columns:\n",
    "    print (f\"null values for {i} =\", data[i].isnull().sum())"
   ]
  },
  {
   "cell_type": "markdown",
   "metadata": {
    "id": "OfRXkujDTd4b"
   },
   "source": [
    "Building a simple recommender system is not a hard task. The steps are as follows:\n",
    "1. Choose a way to calculate rate or score based on some features on a record\n",
    "2. Calculate the score for every movie based on selected features that satisfies the conditions\n",
    "3. Return the list of movies based on their scores in descending format. \n",
    "\n",
    "***The following description and formula belongs to IMDB official website.***\n",
    "\n",
    "The metric is the numeric quantity based on which you rank movies. A movie is considered to be better than another movie if it has a higher metric score than the other movie. It is very important that you have a robust and reliable metric to build your chart upon to ensure a good quality of recommendations.\n",
    "\n",
    "One of the simplest metrics that can be used is the movie rating. Therefore, a movie rated 9 by 100,000 users will be placed below a movie rated 9.5 by 100 users. \n",
    "\n",
    "It is also a well-known fact that as the number of voters increase, the rating of a movie normalizes and it approaches a value that is reflective of the movie’s quality and popularity with the general populace. To put it another way, movies with very few ratings are not very reliable. A movie rated 10/10 by five users doesn’t necessarily mean that it’s a good movie.\n",
    "\n",
    "Fortunately, you do not have to brainstorm a mathematical formula for the metric. You can use IMDB’s weighted rating formula as your metric. Mathematically, it can be represented as follows:\n",
    "\n",
    "![Title](download.png)\n",
    "\n",
    "The following apply:\n",
    "- v is the number of votes that users give to the movie\n",
    "- m is the minimum number of votes required for the movie to be considered\n",
    "- R is the mean rating of the movie\n",
    "- C is the mean rating of all the movies in the dataset\n",
    "\n"
   ]
  },
  {
   "cell_type": "markdown",
   "metadata": {
    "id": "QBh1XUIIYlJH"
   },
   "source": [
    "`weighted_rating` is a function for evaluting the score for each row, it takes as its input a row as `x`, `C` as mean of all records in the table. "
   ]
  },
  {
   "cell_type": "code",
   "execution_count": null,
   "metadata": {
    "id": "TEcY41kFaTSx"
   },
   "outputs": [],
   "source": [
    " def weighted_rating(x, C, m):\n",
    "     v = x['votes']\n",
    "     R = x['avg_vote']\n",
    "     ## Compute the weighted score\n",
    "     return (v/(v+m) * R) + (m/(m+v) * C)"
   ]
  },
  {
   "cell_type": "markdown",
   "metadata": {
    "id": "PRGD-2G0aUOX"
   },
   "source": [
    "`search_in_data` will take parameters to search on desired parameters.\n",
    "\n",
    "For some part of search we can use pre-built python operators. To check highest and lowest time and something like this for year.\n",
    "\n",
    "So after we take movies that satisfy the users conditions, that stores in result variable, we have to score these movies based on previous features and formula discussed.  \n",
    " \n",
    "For the recommender system, for a movie to be considered in the final result, it must have gained more votes than at least 80% of the movies in our dataset. We just consider the records with number of votes higher than a threshold that we defined. we will pass this parameter to `weighted_rating` as m.  \n",
    "\n",
    "We calculate mean of the result table after search by `mean`. \n",
    "\n",
    "Then we apply `weighted_rating` function on final results as described in step before and save the return value in a seprated column as `score`. and then return sorted result on score parameter, in descending form. \n"
   ]
  },
  {
   "cell_type": "code",
   "execution_count": null,
   "metadata": {
    "id": "-J0E4qDWqv19"
   },
   "outputs": [],
   "source": [
    " def search_in_data(genre, low_time, high_time, low_year, high_year, movies, percent=0.8):\n",
    "\n",
    "    result = movies[(movies['genre']==genre) &\n",
    "                    (movies['duration']>=low_time) &\n",
    "                    (movies['duration']<=high_time) &\n",
    "                    (movies['year']>=low_year) & \n",
    "                    (movies['year']<=high_year)\n",
    "    ]\n",
    "\n",
    "    vote_ave = result['avg_vote'].mean()\n",
    "    vote_thresh = result['votes'].quantile(percent)\n",
    "\n",
    "    f_results = result.copy().loc[(result['votes'] > vote_thresh)]\n",
    "\n",
    "    f_results['score'] = f_results.apply(weighted_rating, C=vote_ave, m=vote_thresh, axis=1)\n",
    "    f_results = f_results.sort_values('score', ascending=False) \n",
    "\n",
    "    return f_results\n",
    "\n"
   ]
  },
  {
   "cell_type": "markdown",
   "metadata": {
    "id": "Ebk5zKF2faJE"
   },
   "source": [
    "We can take input from user. I just defined them hard coded to test the code. \n",
    "\n",
    "You can see that the movies that it outputs satisfy all the conditions you passed in as input. Since you applied IMDB’s metric, you can also observe that your movies are very highly rated and popular at the same time."
   ]
  },
  {
   "cell_type": "code",
   "execution_count": null,
   "metadata": {
    "colab": {
     "base_uri": "https://localhost:8080/",
     "height": 297
    },
    "id": "OLG3WLRaBjbx",
    "outputId": "a4f48d53-e1ac-40e9-a6c7-5f40281449c0"
   },
   "outputs": [
    {
     "data": {
      "text/html": [
       "<div>\n",
       "<style scoped>\n",
       "    .dataframe tbody tr th:only-of-type {\n",
       "        vertical-align: middle;\n",
       "    }\n",
       "\n",
       "    .dataframe tbody tr th {\n",
       "        vertical-align: top;\n",
       "    }\n",
       "\n",
       "    .dataframe thead th {\n",
       "        text-align: right;\n",
       "    }\n",
       "</style>\n",
       "<table border=\"1\" class=\"dataframe\">\n",
       "  <thead>\n",
       "    <tr style=\"text-align: right;\">\n",
       "      <th></th>\n",
       "      <th>title</th>\n",
       "      <th>year</th>\n",
       "      <th>genre</th>\n",
       "      <th>duration</th>\n",
       "      <th>country</th>\n",
       "      <th>avg_vote</th>\n",
       "      <th>votes</th>\n",
       "      <th>score</th>\n",
       "    </tr>\n",
       "  </thead>\n",
       "  <tbody>\n",
       "    <tr>\n",
       "      <th>632</th>\n",
       "      <td>I dannati dell'oceano</td>\n",
       "      <td>1928</td>\n",
       "      <td>Crime</td>\n",
       "      <td>76</td>\n",
       "      <td>USA</td>\n",
       "      <td>7.5</td>\n",
       "      <td>3860</td>\n",
       "      <td>7.240160</td>\n",
       "    </tr>\n",
       "    <tr>\n",
       "      <th>610</th>\n",
       "      <td>Le notti di Chicago</td>\n",
       "      <td>1927</td>\n",
       "      <td>Crime</td>\n",
       "      <td>80</td>\n",
       "      <td>USA</td>\n",
       "      <td>7.6</td>\n",
       "      <td>2545</td>\n",
       "      <td>7.217102</td>\n",
       "    </tr>\n",
       "    <tr>\n",
       "      <th>499</th>\n",
       "      <td>Il pensionante</td>\n",
       "      <td>1927</td>\n",
       "      <td>Crime</td>\n",
       "      <td>68</td>\n",
       "      <td>UK</td>\n",
       "      <td>7.3</td>\n",
       "      <td>10024</td>\n",
       "      <td>7.204358</td>\n",
       "    </tr>\n",
       "    <tr>\n",
       "      <th>707</th>\n",
       "      <td>Ricatto</td>\n",
       "      <td>1929</td>\n",
       "      <td>Crime</td>\n",
       "      <td>85</td>\n",
       "      <td>UK</td>\n",
       "      <td>7.0</td>\n",
       "      <td>9412</td>\n",
       "      <td>6.933694</td>\n",
       "    </tr>\n",
       "    <tr>\n",
       "      <th>702</th>\n",
       "      <td>Asfalto</td>\n",
       "      <td>1929</td>\n",
       "      <td>Crime</td>\n",
       "      <td>90</td>\n",
       "      <td>Germany</td>\n",
       "      <td>7.4</td>\n",
       "      <td>1328</td>\n",
       "      <td>6.931817</td>\n",
       "    </tr>\n",
       "    <tr>\n",
       "      <th>455</th>\n",
       "      <td>Il trio infernale</td>\n",
       "      <td>1925</td>\n",
       "      <td>Crime</td>\n",
       "      <td>86</td>\n",
       "      <td>USA</td>\n",
       "      <td>7.2</td>\n",
       "      <td>1613</td>\n",
       "      <td>6.865428</td>\n",
       "    </tr>\n",
       "    <tr>\n",
       "      <th>851</th>\n",
       "      <td>Carcere</td>\n",
       "      <td>1930</td>\n",
       "      <td>Crime</td>\n",
       "      <td>87</td>\n",
       "      <td>USA</td>\n",
       "      <td>7.1</td>\n",
       "      <td>1849</td>\n",
       "      <td>6.831092</td>\n",
       "    </tr>\n",
       "    <tr>\n",
       "      <th>266</th>\n",
       "      <td>Il castello di Vogelod</td>\n",
       "      <td>1921</td>\n",
       "      <td>Crime</td>\n",
       "      <td>75</td>\n",
       "      <td>Germany</td>\n",
       "      <td>6.2</td>\n",
       "      <td>1391</td>\n",
       "      <td>6.307738</td>\n",
       "    </tr>\n",
       "  </tbody>\n",
       "</table>\n",
       "</div>"
      ],
      "text/plain": [
       "                      title  year  genre  ...  avg_vote  votes     score\n",
       "632   I dannati dell'oceano  1928  Crime  ...       7.5   3860  7.240160\n",
       "610     Le notti di Chicago  1927  Crime  ...       7.6   2545  7.217102\n",
       "499          Il pensionante  1927  Crime  ...       7.3  10024  7.204358\n",
       "707                 Ricatto  1929  Crime  ...       7.0   9412  6.933694\n",
       "702                 Asfalto  1929  Crime  ...       7.4   1328  6.931817\n",
       "455       Il trio infernale  1925  Crime  ...       7.2   1613  6.865428\n",
       "851                 Carcere  1930  Crime  ...       7.1   1849  6.831092\n",
       "266  Il castello di Vogelod  1921  Crime  ...       6.2   1391  6.307738\n",
       "\n",
       "[8 rows x 8 columns]"
      ]
     },
     "execution_count": 17,
     "metadata": {
      "tags": []
     },
     "output_type": "execute_result"
    }
   ],
   "source": [
    "# Ask for input\n",
    "# genre = input(\"Enter your prefered genre: \")\n",
    "# low_time = int(input(\"Enter your prefered low_time: \"))\n",
    "# high_time = int(input(\"Enter your prefered high_time: \"))\n",
    "# low_year = int(input(\"Enter your prefered low_year: \"))\n",
    "# high_year = int(input(\"Enter your prefered high_year: \"))\n",
    "\n",
    "\n",
    "# test data\n",
    "genre = 'Crime'\n",
    "low_time = 40\n",
    "high_time = 90\n",
    "low_year = 1920\n",
    "high_year = 1930\n",
    "\n",
    "KBS = search_in_data(genre, low_time, high_time, low_year, high_year, data)#.head()\n",
    "KBS\n",
    "\n"
   ]
  },
  {
   "cell_type": "markdown",
   "metadata": {
    "id": "yHC1_kHEhHXs"
   },
   "source": [
    "link in github: https://github.com/ahforoughi/Knowledge-based-recomender-system/blob/main/KB_recomender_system_movies.ipynb\n",
    "\n",
    "## Refrences \n",
    "\n",
    "\n",
    "1.   Towards Knowledge-Based Recommender Dialog System, Qibin Chen, Junyang Lin, Yichang Zhang, Ming Ding, Yukuo Cen, Hongxia Yang, Jie Tang\n",
    "2.   An Overview of Knowledge-Based Recommender Systems \n",
    "3.   https://www.imdb.com/interfaces/\n",
    "4.   https://help.imdb.com/article/imdb/track-movies-tv/ratings-faq/G67Y87TFYYP6TWAV#\n",
    "5.   An Introduction to Knowledge-based Recommender System, Shwetank Sonal"
   ]
  },
  {
   "cell_type": "code",
   "execution_count": null,
   "metadata": {
    "colab": {
     "base_uri": "https://localhost:8080/"
    },
    "collapsed": true,
    "id": "J4Cu_yp4koXs",
    "jupyter": {
     "outputs_hidden": true
    },
    "outputId": "f60f2389-481d-405a-e470-58fe665cd326"
   },
   "outputs": [
    {
     "name": "stdout",
     "output_type": "stream",
     "text": [
      "cp: cannot stat '/content/drive/MyDrive/Colab': No such file or directory\n",
      "cp: cannot stat 'Notebooks/KB_recomender_system_movies.ipynb': No such file or directory\n"
     ]
    }
   ],
   "source": [
    "!cp /content/drive/MyDrive/Colab Notebooks/KB_recomender_system_movies.ipynb ./"
   ]
  },
  {
   "cell_type": "code",
   "execution_count": null,
   "metadata": {
    "id": "lC7dN4G0lkqD"
   },
   "outputs": [],
   "source": []
  }
 ],
 "metadata": {
  "colab": {
   "collapsed_sections": [],
   "name": "KB_recomender_system_movies.ipynb",
   "provenance": []
  },
  "kernelspec": {
   "display_name": "Python 3",
   "language": "python",
   "name": "python3"
  },
  "language_info": {
   "codemirror_mode": {
    "name": "ipython",
    "version": 3
   },
   "file_extension": ".py",
   "mimetype": "text/x-python",
   "name": "python",
   "nbconvert_exporter": "python",
   "pygments_lexer": "ipython3",
   "version": "3.8.5"
  }
 },
 "nbformat": 4,
 "nbformat_minor": 4
}
