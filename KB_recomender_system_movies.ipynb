{
  "nbformat": 4,
  "nbformat_minor": 0,
  "metadata": {
    "colab": {
      "name": "KB_recomender_system_movies.ipynb",
      "provenance": [],
      "collapsed_sections": [],
      "mount_file_id": "1oF08_kGVz0FB2Rg2KVW-U8FDKfjHah1n",
      "authorship_tag": "ABX9TyMRSvqz/GxhjZBbHrzTEgJp",
      "include_colab_link": true
    },
    "kernelspec": {
      "name": "python3",
      "display_name": "Python 3"
    },
    "language_info": {
      "name": "python"
    }
  },
  "cells": [
    {
      "cell_type": "markdown",
      "metadata": {
        "id": "view-in-github",
        "colab_type": "text"
      },
      "source": [
        "<a href=\"https://colab.research.google.com/github/ahforoughi/Knowledge-based-recomender-system/blob/main/KB_recomender_system_movies.ipynb\" target=\"_parent\"><img src=\"https://colab.research.google.com/assets/colab-badge.svg\" alt=\"Open In Colab\"/></a>"
      ]
    },
    {
      "cell_type": "markdown",
      "metadata": {
        "id": "nFIU8gFkxh1x"
      },
      "source": [
        "# Knowledge-based recommender system on IMDB \n",
        "IMDb is the most popular movie website and it combines movie plot description, Metastore ratings, critic and user ratings and reviews, release dates, and many more aspects.\n",
        "\n",
        "The website is well know for storing almost every movie that has ever been released (the oldest is from 1874 - \"Passage de Venus\") or just planned to be released (newest movie is from 2027 - \"Avatar 5\"). \n",
        "\n",
        "The movies dataset includes 85,855 movies with attributes such as movie description, average rating, number of votes, genre, etc.\n",
        "\n",
        "The ratings dataset includes 85,855 rating details from demographic perspective.\n",
        "\n",
        "The names dataset includes 297,705 cast members with personal attributes such as birth details, death details, height, spouses, children, etc.\n",
        "\n",
        "The title principals dataset includes 835,513 cast members roles in movies with attributes such as IMDb title id, IMDb name id, order of importance in the movie, role, and characters played.\n",
        "\n",
        "We just used first 1000 rows for simplicity, and during preperation we drop some unuseful coloumns and keep some useful that we can search on them. \n",
        "\n",
        "\n",
        "First we import some library  "
      ]
    },
    {
      "cell_type": "code",
      "metadata": {
        "id": "cUF7O5sZ8m8h"
      },
      "source": [
        "import numpy as np\n",
        "import pandas as pd\n",
        "import matplotlib.pyplot as plt\n",
        "import tests as t\n",
        "from ast import literal_eval"
      ],
      "execution_count": 7,
      "outputs": []
    },
    {
      "cell_type": "markdown",
      "metadata": {
        "id": "tE4amwapAQni"
      },
      "source": [
        "Here is reading from full data set."
      ]
    },
    {
      "cell_type": "code",
      "metadata": {
        "colab": {
          "base_uri": "https://localhost:8080/",
          "height": 734
        },
        "id": "dH2xBAl7BX2B",
        "outputId": "8815ff9f-8c71-4571-8846-004116433b8b"
      },
      "source": [
        "data_path = \"/content/IMDb movies.csv\"\n",
        "! unzip \"/content/drive/MyDrive/Colab Notebooks/IMDb movies.csv.zip\"\n",
        "data = pd.read_csv(data_path)\n",
        "data.head()"
      ],
      "execution_count": 8,
      "outputs": [
        {
          "output_type": "stream",
          "text": [
            "Archive:  /content/drive/MyDrive/Colab Notebooks/IMDb movies.csv.zip\n",
            "replace IMDb movies.csv? [y]es, [n]o, [A]ll, [N]one, [r]ename: no\n"
          ],
          "name": "stdout"
        },
        {
          "output_type": "stream",
          "text": [
            "/usr/local/lib/python3.7/dist-packages/IPython/core/interactiveshell.py:2718: DtypeWarning: Columns (3) have mixed types.Specify dtype option on import or set low_memory=False.\n",
            "  interactivity=interactivity, compiler=compiler, result=result)\n"
          ],
          "name": "stderr"
        },
        {
          "output_type": "execute_result",
          "data": {
            "text/html": [
              "<div>\n",
              "<style scoped>\n",
              "    .dataframe tbody tr th:only-of-type {\n",
              "        vertical-align: middle;\n",
              "    }\n",
              "\n",
              "    .dataframe tbody tr th {\n",
              "        vertical-align: top;\n",
              "    }\n",
              "\n",
              "    .dataframe thead th {\n",
              "        text-align: right;\n",
              "    }\n",
              "</style>\n",
              "<table border=\"1\" class=\"dataframe\">\n",
              "  <thead>\n",
              "    <tr style=\"text-align: right;\">\n",
              "      <th></th>\n",
              "      <th>imdb_title_id</th>\n",
              "      <th>title</th>\n",
              "      <th>original_title</th>\n",
              "      <th>year</th>\n",
              "      <th>date_published</th>\n",
              "      <th>genre</th>\n",
              "      <th>duration</th>\n",
              "      <th>country</th>\n",
              "      <th>language</th>\n",
              "      <th>director</th>\n",
              "      <th>writer</th>\n",
              "      <th>production_company</th>\n",
              "      <th>actors</th>\n",
              "      <th>description</th>\n",
              "      <th>avg_vote</th>\n",
              "      <th>votes</th>\n",
              "      <th>budget</th>\n",
              "      <th>usa_gross_income</th>\n",
              "      <th>worlwide_gross_income</th>\n",
              "      <th>metascore</th>\n",
              "      <th>reviews_from_users</th>\n",
              "      <th>reviews_from_critics</th>\n",
              "    </tr>\n",
              "  </thead>\n",
              "  <tbody>\n",
              "    <tr>\n",
              "      <th>0</th>\n",
              "      <td>tt0000009</td>\n",
              "      <td>Miss Jerry</td>\n",
              "      <td>Miss Jerry</td>\n",
              "      <td>1894</td>\n",
              "      <td>1894-10-09</td>\n",
              "      <td>Romance</td>\n",
              "      <td>45</td>\n",
              "      <td>USA</td>\n",
              "      <td>None</td>\n",
              "      <td>Alexander Black</td>\n",
              "      <td>Alexander Black</td>\n",
              "      <td>Alexander Black Photoplays</td>\n",
              "      <td>Blanche Bayliss, William Courtenay, Chauncey D...</td>\n",
              "      <td>The adventures of a female reporter in the 1890s.</td>\n",
              "      <td>5.9</td>\n",
              "      <td>154</td>\n",
              "      <td>NaN</td>\n",
              "      <td>NaN</td>\n",
              "      <td>NaN</td>\n",
              "      <td>NaN</td>\n",
              "      <td>1.0</td>\n",
              "      <td>2.0</td>\n",
              "    </tr>\n",
              "    <tr>\n",
              "      <th>1</th>\n",
              "      <td>tt0000574</td>\n",
              "      <td>The Story of the Kelly Gang</td>\n",
              "      <td>The Story of the Kelly Gang</td>\n",
              "      <td>1906</td>\n",
              "      <td>1906-12-26</td>\n",
              "      <td>Biography, Crime, Drama</td>\n",
              "      <td>70</td>\n",
              "      <td>Australia</td>\n",
              "      <td>None</td>\n",
              "      <td>Charles Tait</td>\n",
              "      <td>Charles Tait</td>\n",
              "      <td>J. and N. Tait</td>\n",
              "      <td>Elizabeth Tait, John Tait, Norman Campbell, Be...</td>\n",
              "      <td>True story of notorious Australian outlaw Ned ...</td>\n",
              "      <td>6.1</td>\n",
              "      <td>589</td>\n",
              "      <td>$ 2250</td>\n",
              "      <td>NaN</td>\n",
              "      <td>NaN</td>\n",
              "      <td>NaN</td>\n",
              "      <td>7.0</td>\n",
              "      <td>7.0</td>\n",
              "    </tr>\n",
              "    <tr>\n",
              "      <th>2</th>\n",
              "      <td>tt0001892</td>\n",
              "      <td>Den sorte drøm</td>\n",
              "      <td>Den sorte drøm</td>\n",
              "      <td>1911</td>\n",
              "      <td>1911-08-19</td>\n",
              "      <td>Drama</td>\n",
              "      <td>53</td>\n",
              "      <td>Germany, Denmark</td>\n",
              "      <td>NaN</td>\n",
              "      <td>Urban Gad</td>\n",
              "      <td>Urban Gad, Gebhard Schätzler-Perasini</td>\n",
              "      <td>Fotorama</td>\n",
              "      <td>Asta Nielsen, Valdemar Psilander, Gunnar Helse...</td>\n",
              "      <td>Two men of high rank are both wooing the beaut...</td>\n",
              "      <td>5.8</td>\n",
              "      <td>188</td>\n",
              "      <td>NaN</td>\n",
              "      <td>NaN</td>\n",
              "      <td>NaN</td>\n",
              "      <td>NaN</td>\n",
              "      <td>5.0</td>\n",
              "      <td>2.0</td>\n",
              "    </tr>\n",
              "    <tr>\n",
              "      <th>3</th>\n",
              "      <td>tt0002101</td>\n",
              "      <td>Cleopatra</td>\n",
              "      <td>Cleopatra</td>\n",
              "      <td>1912</td>\n",
              "      <td>1912-11-13</td>\n",
              "      <td>Drama, History</td>\n",
              "      <td>100</td>\n",
              "      <td>USA</td>\n",
              "      <td>English</td>\n",
              "      <td>Charles L. Gaskill</td>\n",
              "      <td>Victorien Sardou</td>\n",
              "      <td>Helen Gardner Picture Players</td>\n",
              "      <td>Helen Gardner, Pearl Sindelar, Miss Fielding, ...</td>\n",
              "      <td>The fabled queen of Egypt's affair with Roman ...</td>\n",
              "      <td>5.2</td>\n",
              "      <td>446</td>\n",
              "      <td>$ 45000</td>\n",
              "      <td>NaN</td>\n",
              "      <td>NaN</td>\n",
              "      <td>NaN</td>\n",
              "      <td>25.0</td>\n",
              "      <td>3.0</td>\n",
              "    </tr>\n",
              "    <tr>\n",
              "      <th>4</th>\n",
              "      <td>tt0002130</td>\n",
              "      <td>L'Inferno</td>\n",
              "      <td>L'Inferno</td>\n",
              "      <td>1911</td>\n",
              "      <td>1911-03-06</td>\n",
              "      <td>Adventure, Drama, Fantasy</td>\n",
              "      <td>68</td>\n",
              "      <td>Italy</td>\n",
              "      <td>Italian</td>\n",
              "      <td>Francesco Bertolini, Adolfo Padovan</td>\n",
              "      <td>Dante Alighieri</td>\n",
              "      <td>Milano Film</td>\n",
              "      <td>Salvatore Papa, Arturo Pirovano, Giuseppe de L...</td>\n",
              "      <td>Loosely adapted from Dante's Divine Comedy and...</td>\n",
              "      <td>7.0</td>\n",
              "      <td>2237</td>\n",
              "      <td>NaN</td>\n",
              "      <td>NaN</td>\n",
              "      <td>NaN</td>\n",
              "      <td>NaN</td>\n",
              "      <td>31.0</td>\n",
              "      <td>14.0</td>\n",
              "    </tr>\n",
              "  </tbody>\n",
              "</table>\n",
              "</div>"
            ],
            "text/plain": [
              "  imdb_title_id  ... reviews_from_critics\n",
              "0     tt0000009  ...                  2.0\n",
              "1     tt0000574  ...                  7.0\n",
              "2     tt0001892  ...                  2.0\n",
              "3     tt0002101  ...                  3.0\n",
              "4     tt0002130  ...                 14.0\n",
              "\n",
              "[5 rows x 22 columns]"
            ]
          },
          "metadata": {
            "tags": []
          },
          "execution_count": 8
        }
      ]
    },
    {
      "cell_type": "markdown",
      "metadata": {
        "id": "jm9duQtwAo2-"
      },
      "source": [
        "We shrink our dataset to first 1000 rows and drop some unuseful columns and keep some that we can search on them.    "
      ]
    },
    {
      "cell_type": "code",
      "metadata": {
        "colab": {
          "base_uri": "https://localhost:8080/"
        },
        "id": "VQ23C3FgapmO",
        "outputId": "0913a1c6-074e-4345-e462-75ff9b6fd836"
      },
      "source": [
        "print(\"data shape before shrink\", data.shape)\n",
        "data = data.iloc[:1000, : ]\n",
        "data = data[['title', 'year', 'genre', 'duration', 'country', 'avg_vote', 'votes']]\n",
        "print(\"data shape after shrink\", data.shape)"
      ],
      "execution_count": 9,
      "outputs": [
        {
          "output_type": "stream",
          "text": [
            "data shape before shrink (85855, 22)\n",
            "data shape after shrink (1000, 7)\n"
          ],
          "name": "stdout"
        }
      ]
    },
    {
      "cell_type": "code",
      "metadata": {
        "colab": {
          "base_uri": "https://localhost:8080/",
          "height": 204
        },
        "id": "unwdoz9XatOL",
        "outputId": "272d57df-df87-433c-ef2b-4c463a5dacb5"
      },
      "source": [
        "data.dtypes\n",
        "data.head()"
      ],
      "execution_count": 10,
      "outputs": [
        {
          "output_type": "execute_result",
          "data": {
            "text/html": [
              "<div>\n",
              "<style scoped>\n",
              "    .dataframe tbody tr th:only-of-type {\n",
              "        vertical-align: middle;\n",
              "    }\n",
              "\n",
              "    .dataframe tbody tr th {\n",
              "        vertical-align: top;\n",
              "    }\n",
              "\n",
              "    .dataframe thead th {\n",
              "        text-align: right;\n",
              "    }\n",
              "</style>\n",
              "<table border=\"1\" class=\"dataframe\">\n",
              "  <thead>\n",
              "    <tr style=\"text-align: right;\">\n",
              "      <th></th>\n",
              "      <th>title</th>\n",
              "      <th>year</th>\n",
              "      <th>genre</th>\n",
              "      <th>duration</th>\n",
              "      <th>country</th>\n",
              "      <th>avg_vote</th>\n",
              "      <th>votes</th>\n",
              "    </tr>\n",
              "  </thead>\n",
              "  <tbody>\n",
              "    <tr>\n",
              "      <th>0</th>\n",
              "      <td>Miss Jerry</td>\n",
              "      <td>1894</td>\n",
              "      <td>Romance</td>\n",
              "      <td>45</td>\n",
              "      <td>USA</td>\n",
              "      <td>5.9</td>\n",
              "      <td>154</td>\n",
              "    </tr>\n",
              "    <tr>\n",
              "      <th>1</th>\n",
              "      <td>The Story of the Kelly Gang</td>\n",
              "      <td>1906</td>\n",
              "      <td>Biography, Crime, Drama</td>\n",
              "      <td>70</td>\n",
              "      <td>Australia</td>\n",
              "      <td>6.1</td>\n",
              "      <td>589</td>\n",
              "    </tr>\n",
              "    <tr>\n",
              "      <th>2</th>\n",
              "      <td>Den sorte drøm</td>\n",
              "      <td>1911</td>\n",
              "      <td>Drama</td>\n",
              "      <td>53</td>\n",
              "      <td>Germany, Denmark</td>\n",
              "      <td>5.8</td>\n",
              "      <td>188</td>\n",
              "    </tr>\n",
              "    <tr>\n",
              "      <th>3</th>\n",
              "      <td>Cleopatra</td>\n",
              "      <td>1912</td>\n",
              "      <td>Drama, History</td>\n",
              "      <td>100</td>\n",
              "      <td>USA</td>\n",
              "      <td>5.2</td>\n",
              "      <td>446</td>\n",
              "    </tr>\n",
              "    <tr>\n",
              "      <th>4</th>\n",
              "      <td>L'Inferno</td>\n",
              "      <td>1911</td>\n",
              "      <td>Adventure, Drama, Fantasy</td>\n",
              "      <td>68</td>\n",
              "      <td>Italy</td>\n",
              "      <td>7.0</td>\n",
              "      <td>2237</td>\n",
              "    </tr>\n",
              "  </tbody>\n",
              "</table>\n",
              "</div>"
            ],
            "text/plain": [
              "                         title  year  ... avg_vote  votes\n",
              "0                   Miss Jerry  1894  ...      5.9    154\n",
              "1  The Story of the Kelly Gang  1906  ...      6.1    589\n",
              "2               Den sorte drøm  1911  ...      5.8    188\n",
              "3                    Cleopatra  1912  ...      5.2    446\n",
              "4                    L'Inferno  1911  ...      7.0   2237\n",
              "\n",
              "[5 rows x 7 columns]"
            ]
          },
          "metadata": {
            "tags": []
          },
          "execution_count": 10
        }
      ]
    },
    {
      "cell_type": "markdown",
      "metadata": {
        "id": "HK74wR-qC7uR"
      },
      "source": [
        "We invert all data in year column to integer data type so we can use arithmatic function for these data.  "
      ]
    },
    {
      "cell_type": "code",
      "metadata": {
        "colab": {
          "base_uri": "https://localhost:8080/"
        },
        "id": "XjapGu_uc-o8",
        "outputId": "c96be5ca-3d19-422e-8bca-0231baa405d5"
      },
      "source": [
        "def convert_int(x):\n",
        "    try:\n",
        "        return int(x)\n",
        "    except: \n",
        "        return 0\n",
        "data['year'] = data['year'].apply(convert_int)\n",
        "data.dtypes"
      ],
      "execution_count": 11,
      "outputs": [
        {
          "output_type": "execute_result",
          "data": {
            "text/plain": [
              "title        object\n",
              "year          int64\n",
              "genre        object\n",
              "duration      int64\n",
              "country      object\n",
              "avg_vote    float64\n",
              "votes         int64\n",
              "dtype: object"
            ]
          },
          "metadata": {
            "tags": []
          },
          "execution_count": 11
        }
      ]
    },
    {
      "cell_type": "markdown",
      "metadata": {
        "id": "FJfwQR4iIKrl"
      },
      "source": [
        "We don't want NaN values for non of the columns so we have to fill them with some data. I decided to fill them with null string value. "
      ]
    },
    {
      "cell_type": "code",
      "metadata": {
        "id": "swE9wy5Rdlpc"
      },
      "source": [
        "#Convert all NaN into stringified empty lists\n",
        "data['genre'] = data['genre'].fillna('')"
      ],
      "execution_count": 12,
      "outputs": []
    },
    {
      "cell_type": "markdown",
      "metadata": {
        "id": "PfJhuCMBJkr4"
      },
      "source": [
        "As we can see the genres feature is in the format which is like a object.\n",
        "\n",
        "Then we need to​​ explode​​ the column `genre`. You can say if any movie has more than one genre,​​ multiple movies copies will be created in which every movie will have one of the genres. Such as, if a movie named as \"The Story of the Kelly Gang\" which have multiple genre as: Biography, Crime and Drama.  \n",
        "\n",
        "it will be explode into three rows.\n",
        "\n",
        "To do this we split them by comma at first then we explode a row to number of genres that row has.    "
      ]
    },
    {
      "cell_type": "code",
      "metadata": {
        "id": "yc41JaolhnCl"
      },
      "source": [
        "data['genre'] = data['genre'].str.split(',')\n",
        "data = data.explode('genre')"
      ],
      "execution_count": 13,
      "outputs": []
    },
    {
      "cell_type": "markdown",
      "metadata": {
        "id": "_ThvNPfUSt_g"
      },
      "source": [
        "Here we check that any of columns don't have any null value. "
      ]
    },
    {
      "cell_type": "code",
      "metadata": {
        "colab": {
          "base_uri": "https://localhost:8080/"
        },
        "id": "D5rtuHw9iaVV",
        "outputId": "12ea25e4-cecf-4315-dc13-285553e89bfd"
      },
      "source": [
        "# check null values for each column\n",
        "columns = list(data.columns)\n",
        "for i in columns:\n",
        "    print (f\"null values for {i} =\", data[i].isnull().sum())"
      ],
      "execution_count": 14,
      "outputs": [
        {
          "output_type": "stream",
          "text": [
            "null values for title = 0\n",
            "null values for year = 0\n",
            "null values for genre = 0\n",
            "null values for duration = 0\n",
            "null values for country = 0\n",
            "null values for avg_vote = 0\n",
            "null values for votes = 0\n"
          ],
          "name": "stdout"
        }
      ]
    },
    {
      "cell_type": "markdown",
      "metadata": {
        "id": "OfRXkujDTd4b"
      },
      "source": [
        "Building the simple recommender is fairly straightforward. The steps are as follows:\n",
        "1.   Choose a metric (or score) to rate the movies on\n",
        "2.   Decide on the prerequisites for the movie to be featured on the chart\n",
        "3.   Calculate the score for every movie that satisfies the conditions\n",
        "4.   Output the list of movies in decreasing order of their scores\n",
        "\n",
        "The metric is the numeric quantity based on which you rank movies. A movie is considered to be better than another movie if it has a higher metric score than the other movie. It is very important that you have a robust and reliable metric to build your chart upon to ensure a good quality of recommendations.\n",
        "\n",
        "One of the simplest metrics that can be used is the movie rating. Therefore, a movie rated 9 by 100,000 users will be placed below a movie rated 9.5 by 100 users. \n",
        "\n",
        "It is also a well-known fact that as the number of voters increase, the rating of a movie normalizes and it approaches a value that is reflective of the movie’s quality and popularity with the general populace. To put it another way, movies with very few ratings are not very reliable. A movie rated 10/10 by five users doesn’t necessarily mean that it’s a good movie.\n",
        "\n",
        "Fortunately, you do not have to brainstorm a mathematical formula for the metric. You can use IMDB’s weighted rating formula as your metric. Mathematically, it can be represented as follows:\n",
        "\n",
        "\n",
        "![image2-19.png](data:image/png;base64,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)\n",
        "\n",
        "The following apply:\n",
        "*    v is the number of votes garnered by the movie\n",
        "*    m is the minimum number of votes required for the movie to be in the chart (the prerequisite)\n",
        "*    R is the mean rating of the movie\n",
        "*    C is the mean rating of all the movies in the dataset\n",
        "\n"
      ]
    },
    {
      "cell_type": "markdown",
      "metadata": {
        "id": "QBh1XUIIYlJH"
      },
      "source": [
        "`weighted_rating` is a function for evaluting the score for each row, it takes as its input a row as `x`, `C` as mean of all records in the table. "
      ]
    },
    {
      "cell_type": "code",
      "metadata": {
        "id": "TEcY41kFaTSx"
      },
      "source": [
        " def weighted_rating(x, C, m):\n",
        "     v = x['votes']\n",
        "     R = x['avg_vote']\n",
        "     ## Compute the weighted score\n",
        "     return (v/(v+m) * R) + (m/(m+v) * C)"
      ],
      "execution_count": 15,
      "outputs": []
    },
    {
      "cell_type": "markdown",
      "metadata": {
        "id": "PRGD-2G0aUOX"
      },
      "source": [
        "`search_in_data` will take parameters to search on desired parameters. The data that you have has information on the duration, genres, and timelines, but it isn’t currently in a form that is directly usable. Your data needs to be wrangled before it can be put to use to build this recommender.\n",
        "\n",
        "For some part of search we can use pre-built python operators. To check highest and lowest time and something like this for year. \n",
        "\n",
        "For your recommender, use the number of votes garnered by the 80th percentile movie as your value for `m`. In other words, for a movie to be considered in the rankings, it must have garnered more votes than at least 80% of the movies present in your dataset. Additionally, the number of votes garnered by the 80th percentile movie is used in the weighted formula described previously to come up with the value for the scores. we will pass this parameter to `weighted_rating` as m.  \n",
        "\n",
        "We calculate mean of the result table after search by `mean`. \n",
        "\n",
        "We just consider the records with number of votes higher than a threshold that we defined. \n",
        "\n",
        "Then we apply `weighted_rating` function on final results as described in step before and save the return value in a seprated column as `score`. and then return sorted result on score parameter, in descending form. \n"
      ]
    },
    {
      "cell_type": "code",
      "metadata": {
        "id": "-J0E4qDWqv19"
      },
      "source": [
        " def search_in_data(genre, low_time, high_time, low_year, high_year, movies, percent=0.8):\n",
        "\n",
        "    result = movies[(movies['genre']==genre) &\n",
        "                    (movies['duration']>=low_time) &\n",
        "                    (movies['duration']<=high_time) &\n",
        "                    (movies['year']>=low_year) & \n",
        "                    (movies['year']<=high_year)\n",
        "    ]\n",
        "\n",
        "    vote_ave = result['avg_vote'].mean()\n",
        "    vote_thresh = result['votes'].quantile(percent)\n",
        "\n",
        "    f_results = result.copy().loc[(result['votes'] > vote_thresh)]\n",
        "\n",
        "    f_results['score'] = f_results.apply(weighted_rating, C=vote_ave, m=vote_thresh, axis=1)\n",
        "    f_results = f_results.sort_values('score', ascending=False) \n",
        "\n",
        "    return f_results\n",
        "\n"
      ],
      "execution_count": 16,
      "outputs": []
    },
    {
      "cell_type": "markdown",
      "metadata": {
        "id": "Ebk5zKF2faJE"
      },
      "source": [
        "We can take input from user. I just defined them hard coded to test the code. \n",
        "\n",
        "You can see that the movies that it outputs satisfy all the conditions you passed in as input. Since you applied IMDB’s metric, you can also observe that your movies are very highly rated and popular at the same time."
      ]
    },
    {
      "cell_type": "code",
      "metadata": {
        "colab": {
          "base_uri": "https://localhost:8080/",
          "height": 297
        },
        "id": "OLG3WLRaBjbx",
        "outputId": "a4f48d53-e1ac-40e9-a6c7-5f40281449c0"
      },
      "source": [
        "# Ask for input\n",
        "# genre = input(\"Enter your prefered genre: \")\n",
        "# low_time = int(input(\"Enter your prefered low_time: \"))\n",
        "# high_time = int(input(\"Enter your prefered high_time: \"))\n",
        "# low_year = int(input(\"Enter your prefered low_year: \"))\n",
        "# high_year = int(input(\"Enter your prefered high_year: \"))\n",
        "\n",
        "\n",
        "# test data\n",
        "genre = 'Crime'\n",
        "low_time = 40\n",
        "high_time = 90\n",
        "low_year = 1920\n",
        "high_year = 1930\n",
        "\n",
        "KBS = search_in_data(genre, low_time, high_time, low_year, high_year, data)#.head()\n",
        "KBS\n",
        "\n"
      ],
      "execution_count": 17,
      "outputs": [
        {
          "output_type": "execute_result",
          "data": {
            "text/html": [
              "<div>\n",
              "<style scoped>\n",
              "    .dataframe tbody tr th:only-of-type {\n",
              "        vertical-align: middle;\n",
              "    }\n",
              "\n",
              "    .dataframe tbody tr th {\n",
              "        vertical-align: top;\n",
              "    }\n",
              "\n",
              "    .dataframe thead th {\n",
              "        text-align: right;\n",
              "    }\n",
              "</style>\n",
              "<table border=\"1\" class=\"dataframe\">\n",
              "  <thead>\n",
              "    <tr style=\"text-align: right;\">\n",
              "      <th></th>\n",
              "      <th>title</th>\n",
              "      <th>year</th>\n",
              "      <th>genre</th>\n",
              "      <th>duration</th>\n",
              "      <th>country</th>\n",
              "      <th>avg_vote</th>\n",
              "      <th>votes</th>\n",
              "      <th>score</th>\n",
              "    </tr>\n",
              "  </thead>\n",
              "  <tbody>\n",
              "    <tr>\n",
              "      <th>632</th>\n",
              "      <td>I dannati dell'oceano</td>\n",
              "      <td>1928</td>\n",
              "      <td>Crime</td>\n",
              "      <td>76</td>\n",
              "      <td>USA</td>\n",
              "      <td>7.5</td>\n",
              "      <td>3860</td>\n",
              "      <td>7.240160</td>\n",
              "    </tr>\n",
              "    <tr>\n",
              "      <th>610</th>\n",
              "      <td>Le notti di Chicago</td>\n",
              "      <td>1927</td>\n",
              "      <td>Crime</td>\n",
              "      <td>80</td>\n",
              "      <td>USA</td>\n",
              "      <td>7.6</td>\n",
              "      <td>2545</td>\n",
              "      <td>7.217102</td>\n",
              "    </tr>\n",
              "    <tr>\n",
              "      <th>499</th>\n",
              "      <td>Il pensionante</td>\n",
              "      <td>1927</td>\n",
              "      <td>Crime</td>\n",
              "      <td>68</td>\n",
              "      <td>UK</td>\n",
              "      <td>7.3</td>\n",
              "      <td>10024</td>\n",
              "      <td>7.204358</td>\n",
              "    </tr>\n",
              "    <tr>\n",
              "      <th>707</th>\n",
              "      <td>Ricatto</td>\n",
              "      <td>1929</td>\n",
              "      <td>Crime</td>\n",
              "      <td>85</td>\n",
              "      <td>UK</td>\n",
              "      <td>7.0</td>\n",
              "      <td>9412</td>\n",
              "      <td>6.933694</td>\n",
              "    </tr>\n",
              "    <tr>\n",
              "      <th>702</th>\n",
              "      <td>Asfalto</td>\n",
              "      <td>1929</td>\n",
              "      <td>Crime</td>\n",
              "      <td>90</td>\n",
              "      <td>Germany</td>\n",
              "      <td>7.4</td>\n",
              "      <td>1328</td>\n",
              "      <td>6.931817</td>\n",
              "    </tr>\n",
              "    <tr>\n",
              "      <th>455</th>\n",
              "      <td>Il trio infernale</td>\n",
              "      <td>1925</td>\n",
              "      <td>Crime</td>\n",
              "      <td>86</td>\n",
              "      <td>USA</td>\n",
              "      <td>7.2</td>\n",
              "      <td>1613</td>\n",
              "      <td>6.865428</td>\n",
              "    </tr>\n",
              "    <tr>\n",
              "      <th>851</th>\n",
              "      <td>Carcere</td>\n",
              "      <td>1930</td>\n",
              "      <td>Crime</td>\n",
              "      <td>87</td>\n",
              "      <td>USA</td>\n",
              "      <td>7.1</td>\n",
              "      <td>1849</td>\n",
              "      <td>6.831092</td>\n",
              "    </tr>\n",
              "    <tr>\n",
              "      <th>266</th>\n",
              "      <td>Il castello di Vogelod</td>\n",
              "      <td>1921</td>\n",
              "      <td>Crime</td>\n",
              "      <td>75</td>\n",
              "      <td>Germany</td>\n",
              "      <td>6.2</td>\n",
              "      <td>1391</td>\n",
              "      <td>6.307738</td>\n",
              "    </tr>\n",
              "  </tbody>\n",
              "</table>\n",
              "</div>"
            ],
            "text/plain": [
              "                      title  year  genre  ...  avg_vote  votes     score\n",
              "632   I dannati dell'oceano  1928  Crime  ...       7.5   3860  7.240160\n",
              "610     Le notti di Chicago  1927  Crime  ...       7.6   2545  7.217102\n",
              "499          Il pensionante  1927  Crime  ...       7.3  10024  7.204358\n",
              "707                 Ricatto  1929  Crime  ...       7.0   9412  6.933694\n",
              "702                 Asfalto  1929  Crime  ...       7.4   1328  6.931817\n",
              "455       Il trio infernale  1925  Crime  ...       7.2   1613  6.865428\n",
              "851                 Carcere  1930  Crime  ...       7.1   1849  6.831092\n",
              "266  Il castello di Vogelod  1921  Crime  ...       6.2   1391  6.307738\n",
              "\n",
              "[8 rows x 8 columns]"
            ]
          },
          "metadata": {
            "tags": []
          },
          "execution_count": 17
        }
      ]
    }
  ]
}